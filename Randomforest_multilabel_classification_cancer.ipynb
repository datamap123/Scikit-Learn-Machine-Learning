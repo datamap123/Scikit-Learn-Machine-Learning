{
 "cells": [
  {
   "cell_type": "markdown",
   "metadata": {},
   "source": [
    "# Cervical cancer risk - multilabel classification"
   ]
  },
  {
   "cell_type": "markdown",
   "metadata": {},
   "source": [
    "In this notebook a classification is performed for dataset to screen cervical cancer risk. The dataset focuses on the prediction of indicators/diagnosis of cervical cancer. The features cover demographic information, habits, and historic medical records. The dataset can be found here: https://archive.ics.uci.edu/ml/datasets/Cervical+cancer+%28Risk+Factors%29\n",
    "\n",
    "Source of data (2017):\n",
    "Kelwin Fernandes (kafc _at_ inesctec _dot_ pt) - INESC TEC & FEUP, Porto, Portugal. \n",
    "Jaime S. Cardoso - INESC TEC & FEUP, Porto, Portugal. \n",
    "Jessica Fernandes - Universidad Central de Venezuela, Caracas, Venezuela.\n",
    "\n",
    "Dataset information: The dataset was collected at 'Hospital Universitario de Caracas' in Caracas, Venezuela. The dataset comprises demographic information, habits, and historic medical records of 858 patients. Several patients decided not to answer some of the questions because of privacy concerns (missing values).\n",
    "\n",
    "Attribute Information:\n",
    "- (int) Age \n",
    "- (int) Number of sexual partners \n",
    "- (int) First sexual intercourse (age) \n",
    "- (int) Num of pregnancies \n",
    "- (bool) Smokes \n",
    "- (bool) Smokes (years) \n",
    "- (bool) Smokes (packs/year) \n",
    "- (bool) Hormonal Contraceptives \n",
    "- (int) Hormonal Contraceptives (years) \n",
    "- (bool) IUD \n",
    "- (int) IUD (years) \n",
    "- (bool) STDs \n",
    "- (int) STDs (number) \n",
    "- (bool) STDs:condylomatosis \n",
    "- (bool) STDs:cervical condylomatosis \n",
    "- (bool) STDs:vaginal condylomatosis \n",
    "- (bool) STDs:vulvo-perineal condylomatosis \n",
    "- (bool) STDs:syphilis \n",
    "- (bool) STDs:pelvic inflammatory disease \n",
    "- (bool) STDs:genital herpes \n",
    "- (bool) STDs:molluscum contagiosum \n",
    "- (bool) STDs:AIDS \n",
    "- (bool) STDs:HIV \n",
    "- (bool) STDs:Hepatitis B \n",
    "- (bool) STDs:HPV \n",
    "- (int) STDs: Number of diagnosis \n",
    "- (int) STDs: Time since first diagnosis \n",
    "- (int) STDs: Time since last diagnosis \n",
    "- (bool) Dx:Cancer \n",
    "- (bool) Dx:CIN \n",
    "- (bool) Dx:HPV \n",
    "- (bool) Dx \n",
    "- (bool) Hinselmann: target variable \n",
    "- (bool) Schiller: target variable \n",
    "- (bool) Cytology: target variable \n",
    "- (bool) Biopsy: target variable\n",
    "\n",
    "Relevant Papers:\n",
    "Kelwin Fernandes, Jaime S. Cardoso, and Jessica Fernandes. 'Transfer Learning with Partial Observability Applied to Cervical Cancer Screening.' Iberian Conference on Pattern Recognition and Image Analysis. Springer International Publishing, 2017."
   ]
  },
  {
   "cell_type": "markdown",
   "metadata": {},
   "source": [
    "## Loading the data"
   ]
  },
  {
   "cell_type": "code",
   "execution_count": 1,
   "metadata": {},
   "outputs": [],
   "source": [
    "# Load libraries\n",
    "import numpy as np\n",
    "import pandas as pd\n",
    "import matplotlib.pyplot as plt\n",
    "import seaborn as sns"
   ]
  },
  {
   "cell_type": "code",
   "execution_count": 2,
   "metadata": {},
   "outputs": [
    {
     "data": {
      "text/html": [
       "<div>\n",
       "<style scoped>\n",
       "    .dataframe tbody tr th:only-of-type {\n",
       "        vertical-align: middle;\n",
       "    }\n",
       "\n",
       "    .dataframe tbody tr th {\n",
       "        vertical-align: top;\n",
       "    }\n",
       "\n",
       "    .dataframe thead th {\n",
       "        text-align: right;\n",
       "    }\n",
       "</style>\n",
       "<table border=\"1\" class=\"dataframe\">\n",
       "  <thead>\n",
       "    <tr style=\"text-align: right;\">\n",
       "      <th></th>\n",
       "      <th>Age</th>\n",
       "      <th>Number of sexual partners</th>\n",
       "      <th>First sexual intercourse</th>\n",
       "      <th>Num of pregnancies</th>\n",
       "      <th>Smokes</th>\n",
       "      <th>Smokes (years)</th>\n",
       "      <th>Smokes (packs/year)</th>\n",
       "      <th>Hormonal Contraceptives</th>\n",
       "      <th>Hormonal Contraceptives (years)</th>\n",
       "      <th>IUD</th>\n",
       "      <th>...</th>\n",
       "      <th>STDs: Time since first diagnosis</th>\n",
       "      <th>STDs: Time since last diagnosis</th>\n",
       "      <th>Dx:Cancer</th>\n",
       "      <th>Dx:CIN</th>\n",
       "      <th>Dx:HPV</th>\n",
       "      <th>Dx</th>\n",
       "      <th>Hinselmann</th>\n",
       "      <th>Schiller</th>\n",
       "      <th>Citology</th>\n",
       "      <th>Biopsy</th>\n",
       "    </tr>\n",
       "  </thead>\n",
       "  <tbody>\n",
       "    <tr>\n",
       "      <th>0</th>\n",
       "      <td>18</td>\n",
       "      <td>4.0</td>\n",
       "      <td>15.0</td>\n",
       "      <td>1.0</td>\n",
       "      <td>0.0</td>\n",
       "      <td>0.0</td>\n",
       "      <td>0.0</td>\n",
       "      <td>0.0</td>\n",
       "      <td>0.0</td>\n",
       "      <td>0.0</td>\n",
       "      <td>...</td>\n",
       "      <td>?</td>\n",
       "      <td>?</td>\n",
       "      <td>0</td>\n",
       "      <td>0</td>\n",
       "      <td>0</td>\n",
       "      <td>0</td>\n",
       "      <td>0</td>\n",
       "      <td>0</td>\n",
       "      <td>0</td>\n",
       "      <td>0</td>\n",
       "    </tr>\n",
       "    <tr>\n",
       "      <th>1</th>\n",
       "      <td>15</td>\n",
       "      <td>1.0</td>\n",
       "      <td>14.0</td>\n",
       "      <td>1.0</td>\n",
       "      <td>0.0</td>\n",
       "      <td>0.0</td>\n",
       "      <td>0.0</td>\n",
       "      <td>0.0</td>\n",
       "      <td>0.0</td>\n",
       "      <td>0.0</td>\n",
       "      <td>...</td>\n",
       "      <td>?</td>\n",
       "      <td>?</td>\n",
       "      <td>0</td>\n",
       "      <td>0</td>\n",
       "      <td>0</td>\n",
       "      <td>0</td>\n",
       "      <td>0</td>\n",
       "      <td>0</td>\n",
       "      <td>0</td>\n",
       "      <td>0</td>\n",
       "    </tr>\n",
       "    <tr>\n",
       "      <th>2</th>\n",
       "      <td>34</td>\n",
       "      <td>1.0</td>\n",
       "      <td>?</td>\n",
       "      <td>1.0</td>\n",
       "      <td>0.0</td>\n",
       "      <td>0.0</td>\n",
       "      <td>0.0</td>\n",
       "      <td>0.0</td>\n",
       "      <td>0.0</td>\n",
       "      <td>0.0</td>\n",
       "      <td>...</td>\n",
       "      <td>?</td>\n",
       "      <td>?</td>\n",
       "      <td>0</td>\n",
       "      <td>0</td>\n",
       "      <td>0</td>\n",
       "      <td>0</td>\n",
       "      <td>0</td>\n",
       "      <td>0</td>\n",
       "      <td>0</td>\n",
       "      <td>0</td>\n",
       "    </tr>\n",
       "    <tr>\n",
       "      <th>3</th>\n",
       "      <td>52</td>\n",
       "      <td>5.0</td>\n",
       "      <td>16.0</td>\n",
       "      <td>4.0</td>\n",
       "      <td>1.0</td>\n",
       "      <td>37.0</td>\n",
       "      <td>37.0</td>\n",
       "      <td>1.0</td>\n",
       "      <td>3.0</td>\n",
       "      <td>0.0</td>\n",
       "      <td>...</td>\n",
       "      <td>?</td>\n",
       "      <td>?</td>\n",
       "      <td>1</td>\n",
       "      <td>0</td>\n",
       "      <td>1</td>\n",
       "      <td>0</td>\n",
       "      <td>0</td>\n",
       "      <td>0</td>\n",
       "      <td>0</td>\n",
       "      <td>0</td>\n",
       "    </tr>\n",
       "    <tr>\n",
       "      <th>4</th>\n",
       "      <td>46</td>\n",
       "      <td>3.0</td>\n",
       "      <td>21.0</td>\n",
       "      <td>4.0</td>\n",
       "      <td>0.0</td>\n",
       "      <td>0.0</td>\n",
       "      <td>0.0</td>\n",
       "      <td>1.0</td>\n",
       "      <td>15.0</td>\n",
       "      <td>0.0</td>\n",
       "      <td>...</td>\n",
       "      <td>?</td>\n",
       "      <td>?</td>\n",
       "      <td>0</td>\n",
       "      <td>0</td>\n",
       "      <td>0</td>\n",
       "      <td>0</td>\n",
       "      <td>0</td>\n",
       "      <td>0</td>\n",
       "      <td>0</td>\n",
       "      <td>0</td>\n",
       "    </tr>\n",
       "  </tbody>\n",
       "</table>\n",
       "<p>5 rows × 36 columns</p>\n",
       "</div>"
      ],
      "text/plain": [
       "   Age Number of sexual partners First sexual intercourse Num of pregnancies  \\\n",
       "0   18                       4.0                     15.0                1.0   \n",
       "1   15                       1.0                     14.0                1.0   \n",
       "2   34                       1.0                        ?                1.0   \n",
       "3   52                       5.0                     16.0                4.0   \n",
       "4   46                       3.0                     21.0                4.0   \n",
       "\n",
       "  Smokes Smokes (years) Smokes (packs/year) Hormonal Contraceptives  \\\n",
       "0    0.0            0.0                 0.0                     0.0   \n",
       "1    0.0            0.0                 0.0                     0.0   \n",
       "2    0.0            0.0                 0.0                     0.0   \n",
       "3    1.0           37.0                37.0                     1.0   \n",
       "4    0.0            0.0                 0.0                     1.0   \n",
       "\n",
       "  Hormonal Contraceptives (years)  IUD  ... STDs: Time since first diagnosis  \\\n",
       "0                             0.0  0.0  ...                                ?   \n",
       "1                             0.0  0.0  ...                                ?   \n",
       "2                             0.0  0.0  ...                                ?   \n",
       "3                             3.0  0.0  ...                                ?   \n",
       "4                            15.0  0.0  ...                                ?   \n",
       "\n",
       "  STDs: Time since last diagnosis Dx:Cancer Dx:CIN Dx:HPV Dx Hinselmann  \\\n",
       "0                               ?         0      0      0  0          0   \n",
       "1                               ?         0      0      0  0          0   \n",
       "2                               ?         0      0      0  0          0   \n",
       "3                               ?         1      0      1  0          0   \n",
       "4                               ?         0      0      0  0          0   \n",
       "\n",
       "  Schiller Citology Biopsy  \n",
       "0        0        0      0  \n",
       "1        0        0      0  \n",
       "2        0        0      0  \n",
       "3        0        0      0  \n",
       "4        0        0      0  \n",
       "\n",
       "[5 rows x 36 columns]"
      ]
     },
     "execution_count": 2,
     "metadata": {},
     "output_type": "execute_result"
    }
   ],
   "source": [
    "# Load dataset\n",
    "df=pd.read_csv('risk_factors_cervical_cancer.csv')\n",
    "df.head()"
   ]
  },
  {
   "cell_type": "code",
   "execution_count": 3,
   "metadata": {},
   "outputs": [
    {
     "data": {
      "text/plain": [
       "(858, 36)"
      ]
     },
     "execution_count": 3,
     "metadata": {},
     "output_type": "execute_result"
    }
   ],
   "source": [
    "df.shape"
   ]
  },
  {
   "cell_type": "markdown",
   "metadata": {},
   "source": [
    "## Handling missing data"
   ]
  },
  {
   "cell_type": "markdown",
   "metadata": {},
   "source": [
    "It was commented in the abstract of the dataset, that for some attributes there are several missing values. They seem to be marked with question mark, '?'. Let's replace those question marks with NA values."
   ]
  },
  {
   "cell_type": "code",
   "execution_count": 4,
   "metadata": {},
   "outputs": [],
   "source": [
    "df=df.replace('?',np.nan)"
   ]
  },
  {
   "cell_type": "code",
   "execution_count": 5,
   "metadata": {},
   "outputs": [
    {
     "data": {
      "text/plain": [
       "Age                                     0\n",
       "Number of sexual partners              26\n",
       "First sexual intercourse                7\n",
       "Num of pregnancies                     56\n",
       "Smokes                                 13\n",
       "Smokes (years)                         13\n",
       "Smokes (packs/year)                    13\n",
       "Hormonal Contraceptives               108\n",
       "Hormonal Contraceptives (years)       108\n",
       "IUD                                   117\n",
       "IUD (years)                           117\n",
       "STDs                                  105\n",
       "STDs (number)                         105\n",
       "STDs:condylomatosis                   105\n",
       "STDs:cervical condylomatosis          105\n",
       "STDs:vaginal condylomatosis           105\n",
       "STDs:vulvo-perineal condylomatosis    105\n",
       "STDs:syphilis                         105\n",
       "STDs:pelvic inflammatory disease      105\n",
       "STDs:genital herpes                   105\n",
       "STDs:molluscum contagiosum            105\n",
       "STDs:AIDS                             105\n",
       "STDs:HIV                              105\n",
       "STDs:Hepatitis B                      105\n",
       "STDs:HPV                              105\n",
       "STDs: Number of diagnosis               0\n",
       "STDs: Time since first diagnosis      787\n",
       "STDs: Time since last diagnosis       787\n",
       "Dx:Cancer                               0\n",
       "Dx:CIN                                  0\n",
       "Dx:HPV                                  0\n",
       "Dx                                      0\n",
       "Hinselmann                              0\n",
       "Schiller                                0\n",
       "Citology                                0\n",
       "Biopsy                                  0\n",
       "dtype: int64"
      ]
     },
     "execution_count": 5,
     "metadata": {},
     "output_type": "execute_result"
    }
   ],
   "source": [
    "df.isnull().sum()"
   ]
  },
  {
   "cell_type": "markdown",
   "metadata": {},
   "source": [
    "Let's remove those attributes for which >50% of observations are NaN values."
   ]
  },
  {
   "cell_type": "code",
   "execution_count": 6,
   "metadata": {},
   "outputs": [
    {
     "data": {
      "text/plain": [
       "(858, 34)"
      ]
     },
     "execution_count": 6,
     "metadata": {},
     "output_type": "execute_result"
    }
   ],
   "source": [
    "#Let's remove those attributes for which >50% of observations are NaN values\n",
    "# Thus columns: 'STDs: Time since first diagnosis' and 'STDs: Time since last diagnosis' are dropped. \n",
    "df=df.dropna(axis=1,thresh=df.shape[0]//2)\n",
    "df.shape"
   ]
  },
  {
   "cell_type": "code",
   "execution_count": 7,
   "metadata": {},
   "outputs": [
    {
     "data": {
      "text/plain": [
       "(668, 34)"
      ]
     },
     "execution_count": 7,
     "metadata": {},
     "output_type": "execute_result"
    }
   ],
   "source": [
    "# Then remove those rows which have NaNs\n",
    "df=df.dropna()\n",
    "df.shape"
   ]
  },
  {
   "cell_type": "markdown",
   "metadata": {},
   "source": [
    "## Data exploration"
   ]
  },
  {
   "cell_type": "code",
   "execution_count": 8,
   "metadata": {},
   "outputs": [
    {
     "data": {
      "text/html": [
       "<div>\n",
       "<style scoped>\n",
       "    .dataframe tbody tr th:only-of-type {\n",
       "        vertical-align: middle;\n",
       "    }\n",
       "\n",
       "    .dataframe tbody tr th {\n",
       "        vertical-align: top;\n",
       "    }\n",
       "\n",
       "    .dataframe thead th {\n",
       "        text-align: right;\n",
       "    }\n",
       "</style>\n",
       "<table border=\"1\" class=\"dataframe\">\n",
       "  <thead>\n",
       "    <tr style=\"text-align: right;\">\n",
       "      <th></th>\n",
       "      <th>count</th>\n",
       "      <th>unique</th>\n",
       "      <th>top</th>\n",
       "      <th>freq</th>\n",
       "      <th>mean</th>\n",
       "      <th>std</th>\n",
       "      <th>min</th>\n",
       "      <th>25%</th>\n",
       "      <th>50%</th>\n",
       "      <th>75%</th>\n",
       "      <th>max</th>\n",
       "    </tr>\n",
       "  </thead>\n",
       "  <tbody>\n",
       "    <tr>\n",
       "      <th>Age</th>\n",
       "      <td>668</td>\n",
       "      <td>NaN</td>\n",
       "      <td>NaN</td>\n",
       "      <td>NaN</td>\n",
       "      <td>27.265</td>\n",
       "      <td>8.72743</td>\n",
       "      <td>13</td>\n",
       "      <td>21</td>\n",
       "      <td>26</td>\n",
       "      <td>33</td>\n",
       "      <td>84</td>\n",
       "    </tr>\n",
       "    <tr>\n",
       "      <th>Number of sexual partners</th>\n",
       "      <td>668</td>\n",
       "      <td>9</td>\n",
       "      <td>2.0</td>\n",
       "      <td>214</td>\n",
       "      <td>NaN</td>\n",
       "      <td>NaN</td>\n",
       "      <td>NaN</td>\n",
       "      <td>NaN</td>\n",
       "      <td>NaN</td>\n",
       "      <td>NaN</td>\n",
       "      <td>NaN</td>\n",
       "    </tr>\n",
       "    <tr>\n",
       "      <th>First sexual intercourse</th>\n",
       "      <td>668</td>\n",
       "      <td>21</td>\n",
       "      <td>15.0</td>\n",
       "      <td>136</td>\n",
       "      <td>NaN</td>\n",
       "      <td>NaN</td>\n",
       "      <td>NaN</td>\n",
       "      <td>NaN</td>\n",
       "      <td>NaN</td>\n",
       "      <td>NaN</td>\n",
       "      <td>NaN</td>\n",
       "    </tr>\n",
       "    <tr>\n",
       "      <th>Num of pregnancies</th>\n",
       "      <td>668</td>\n",
       "      <td>11</td>\n",
       "      <td>1.0</td>\n",
       "      <td>214</td>\n",
       "      <td>NaN</td>\n",
       "      <td>NaN</td>\n",
       "      <td>NaN</td>\n",
       "      <td>NaN</td>\n",
       "      <td>NaN</td>\n",
       "      <td>NaN</td>\n",
       "      <td>NaN</td>\n",
       "    </tr>\n",
       "    <tr>\n",
       "      <th>Smokes</th>\n",
       "      <td>668</td>\n",
       "      <td>2</td>\n",
       "      <td>0.0</td>\n",
       "      <td>572</td>\n",
       "      <td>NaN</td>\n",
       "      <td>NaN</td>\n",
       "      <td>NaN</td>\n",
       "      <td>NaN</td>\n",
       "      <td>NaN</td>\n",
       "      <td>NaN</td>\n",
       "      <td>NaN</td>\n",
       "    </tr>\n",
       "    <tr>\n",
       "      <th>Smokes (years)</th>\n",
       "      <td>668</td>\n",
       "      <td>30</td>\n",
       "      <td>0.0</td>\n",
       "      <td>572</td>\n",
       "      <td>NaN</td>\n",
       "      <td>NaN</td>\n",
       "      <td>NaN</td>\n",
       "      <td>NaN</td>\n",
       "      <td>NaN</td>\n",
       "      <td>NaN</td>\n",
       "      <td>NaN</td>\n",
       "    </tr>\n",
       "    <tr>\n",
       "      <th>Smokes (packs/year)</th>\n",
       "      <td>668</td>\n",
       "      <td>53</td>\n",
       "      <td>0.0</td>\n",
       "      <td>572</td>\n",
       "      <td>NaN</td>\n",
       "      <td>NaN</td>\n",
       "      <td>NaN</td>\n",
       "      <td>NaN</td>\n",
       "      <td>NaN</td>\n",
       "      <td>NaN</td>\n",
       "      <td>NaN</td>\n",
       "    </tr>\n",
       "    <tr>\n",
       "      <th>Hormonal Contraceptives</th>\n",
       "      <td>668</td>\n",
       "      <td>2</td>\n",
       "      <td>1.0</td>\n",
       "      <td>430</td>\n",
       "      <td>NaN</td>\n",
       "      <td>NaN</td>\n",
       "      <td>NaN</td>\n",
       "      <td>NaN</td>\n",
       "      <td>NaN</td>\n",
       "      <td>NaN</td>\n",
       "      <td>NaN</td>\n",
       "    </tr>\n",
       "    <tr>\n",
       "      <th>Hormonal Contraceptives (years)</th>\n",
       "      <td>668</td>\n",
       "      <td>38</td>\n",
       "      <td>0.0</td>\n",
       "      <td>238</td>\n",
       "      <td>NaN</td>\n",
       "      <td>NaN</td>\n",
       "      <td>NaN</td>\n",
       "      <td>NaN</td>\n",
       "      <td>NaN</td>\n",
       "      <td>NaN</td>\n",
       "      <td>NaN</td>\n",
       "    </tr>\n",
       "    <tr>\n",
       "      <th>IUD</th>\n",
       "      <td>668</td>\n",
       "      <td>2</td>\n",
       "      <td>0.0</td>\n",
       "      <td>593</td>\n",
       "      <td>NaN</td>\n",
       "      <td>NaN</td>\n",
       "      <td>NaN</td>\n",
       "      <td>NaN</td>\n",
       "      <td>NaN</td>\n",
       "      <td>NaN</td>\n",
       "      <td>NaN</td>\n",
       "    </tr>\n",
       "    <tr>\n",
       "      <th>IUD (years)</th>\n",
       "      <td>668</td>\n",
       "      <td>25</td>\n",
       "      <td>0.0</td>\n",
       "      <td>593</td>\n",
       "      <td>NaN</td>\n",
       "      <td>NaN</td>\n",
       "      <td>NaN</td>\n",
       "      <td>NaN</td>\n",
       "      <td>NaN</td>\n",
       "      <td>NaN</td>\n",
       "      <td>NaN</td>\n",
       "    </tr>\n",
       "    <tr>\n",
       "      <th>STDs</th>\n",
       "      <td>668</td>\n",
       "      <td>2</td>\n",
       "      <td>0.0</td>\n",
       "      <td>603</td>\n",
       "      <td>NaN</td>\n",
       "      <td>NaN</td>\n",
       "      <td>NaN</td>\n",
       "      <td>NaN</td>\n",
       "      <td>NaN</td>\n",
       "      <td>NaN</td>\n",
       "      <td>NaN</td>\n",
       "    </tr>\n",
       "    <tr>\n",
       "      <th>STDs (number)</th>\n",
       "      <td>668</td>\n",
       "      <td>5</td>\n",
       "      <td>0.0</td>\n",
       "      <td>603</td>\n",
       "      <td>NaN</td>\n",
       "      <td>NaN</td>\n",
       "      <td>NaN</td>\n",
       "      <td>NaN</td>\n",
       "      <td>NaN</td>\n",
       "      <td>NaN</td>\n",
       "      <td>NaN</td>\n",
       "    </tr>\n",
       "    <tr>\n",
       "      <th>STDs:condylomatosis</th>\n",
       "      <td>668</td>\n",
       "      <td>2</td>\n",
       "      <td>0.0</td>\n",
       "      <td>631</td>\n",
       "      <td>NaN</td>\n",
       "      <td>NaN</td>\n",
       "      <td>NaN</td>\n",
       "      <td>NaN</td>\n",
       "      <td>NaN</td>\n",
       "      <td>NaN</td>\n",
       "      <td>NaN</td>\n",
       "    </tr>\n",
       "    <tr>\n",
       "      <th>STDs:cervical condylomatosis</th>\n",
       "      <td>668</td>\n",
       "      <td>1</td>\n",
       "      <td>0.0</td>\n",
       "      <td>668</td>\n",
       "      <td>NaN</td>\n",
       "      <td>NaN</td>\n",
       "      <td>NaN</td>\n",
       "      <td>NaN</td>\n",
       "      <td>NaN</td>\n",
       "      <td>NaN</td>\n",
       "      <td>NaN</td>\n",
       "    </tr>\n",
       "    <tr>\n",
       "      <th>STDs:vaginal condylomatosis</th>\n",
       "      <td>668</td>\n",
       "      <td>2</td>\n",
       "      <td>0.0</td>\n",
       "      <td>664</td>\n",
       "      <td>NaN</td>\n",
       "      <td>NaN</td>\n",
       "      <td>NaN</td>\n",
       "      <td>NaN</td>\n",
       "      <td>NaN</td>\n",
       "      <td>NaN</td>\n",
       "      <td>NaN</td>\n",
       "    </tr>\n",
       "    <tr>\n",
       "      <th>STDs:vulvo-perineal condylomatosis</th>\n",
       "      <td>668</td>\n",
       "      <td>2</td>\n",
       "      <td>0.0</td>\n",
       "      <td>632</td>\n",
       "      <td>NaN</td>\n",
       "      <td>NaN</td>\n",
       "      <td>NaN</td>\n",
       "      <td>NaN</td>\n",
       "      <td>NaN</td>\n",
       "      <td>NaN</td>\n",
       "      <td>NaN</td>\n",
       "    </tr>\n",
       "    <tr>\n",
       "      <th>STDs:syphilis</th>\n",
       "      <td>668</td>\n",
       "      <td>2</td>\n",
       "      <td>0.0</td>\n",
       "      <td>653</td>\n",
       "      <td>NaN</td>\n",
       "      <td>NaN</td>\n",
       "      <td>NaN</td>\n",
       "      <td>NaN</td>\n",
       "      <td>NaN</td>\n",
       "      <td>NaN</td>\n",
       "      <td>NaN</td>\n",
       "    </tr>\n",
       "    <tr>\n",
       "      <th>STDs:pelvic inflammatory disease</th>\n",
       "      <td>668</td>\n",
       "      <td>2</td>\n",
       "      <td>0.0</td>\n",
       "      <td>667</td>\n",
       "      <td>NaN</td>\n",
       "      <td>NaN</td>\n",
       "      <td>NaN</td>\n",
       "      <td>NaN</td>\n",
       "      <td>NaN</td>\n",
       "      <td>NaN</td>\n",
       "      <td>NaN</td>\n",
       "    </tr>\n",
       "    <tr>\n",
       "      <th>STDs:genital herpes</th>\n",
       "      <td>668</td>\n",
       "      <td>2</td>\n",
       "      <td>0.0</td>\n",
       "      <td>667</td>\n",
       "      <td>NaN</td>\n",
       "      <td>NaN</td>\n",
       "      <td>NaN</td>\n",
       "      <td>NaN</td>\n",
       "      <td>NaN</td>\n",
       "      <td>NaN</td>\n",
       "      <td>NaN</td>\n",
       "    </tr>\n",
       "    <tr>\n",
       "      <th>STDs:molluscum contagiosum</th>\n",
       "      <td>668</td>\n",
       "      <td>2</td>\n",
       "      <td>0.0</td>\n",
       "      <td>667</td>\n",
       "      <td>NaN</td>\n",
       "      <td>NaN</td>\n",
       "      <td>NaN</td>\n",
       "      <td>NaN</td>\n",
       "      <td>NaN</td>\n",
       "      <td>NaN</td>\n",
       "      <td>NaN</td>\n",
       "    </tr>\n",
       "    <tr>\n",
       "      <th>STDs:AIDS</th>\n",
       "      <td>668</td>\n",
       "      <td>1</td>\n",
       "      <td>0.0</td>\n",
       "      <td>668</td>\n",
       "      <td>NaN</td>\n",
       "      <td>NaN</td>\n",
       "      <td>NaN</td>\n",
       "      <td>NaN</td>\n",
       "      <td>NaN</td>\n",
       "      <td>NaN</td>\n",
       "      <td>NaN</td>\n",
       "    </tr>\n",
       "    <tr>\n",
       "      <th>STDs:HIV</th>\n",
       "      <td>668</td>\n",
       "      <td>2</td>\n",
       "      <td>0.0</td>\n",
       "      <td>655</td>\n",
       "      <td>NaN</td>\n",
       "      <td>NaN</td>\n",
       "      <td>NaN</td>\n",
       "      <td>NaN</td>\n",
       "      <td>NaN</td>\n",
       "      <td>NaN</td>\n",
       "      <td>NaN</td>\n",
       "    </tr>\n",
       "    <tr>\n",
       "      <th>STDs:Hepatitis B</th>\n",
       "      <td>668</td>\n",
       "      <td>2</td>\n",
       "      <td>0.0</td>\n",
       "      <td>667</td>\n",
       "      <td>NaN</td>\n",
       "      <td>NaN</td>\n",
       "      <td>NaN</td>\n",
       "      <td>NaN</td>\n",
       "      <td>NaN</td>\n",
       "      <td>NaN</td>\n",
       "      <td>NaN</td>\n",
       "    </tr>\n",
       "    <tr>\n",
       "      <th>STDs:HPV</th>\n",
       "      <td>668</td>\n",
       "      <td>2</td>\n",
       "      <td>0.0</td>\n",
       "      <td>666</td>\n",
       "      <td>NaN</td>\n",
       "      <td>NaN</td>\n",
       "      <td>NaN</td>\n",
       "      <td>NaN</td>\n",
       "      <td>NaN</td>\n",
       "      <td>NaN</td>\n",
       "      <td>NaN</td>\n",
       "    </tr>\n",
       "    <tr>\n",
       "      <th>STDs: Number of diagnosis</th>\n",
       "      <td>668</td>\n",
       "      <td>NaN</td>\n",
       "      <td>NaN</td>\n",
       "      <td>NaN</td>\n",
       "      <td>0.0928144</td>\n",
       "      <td>0.310355</td>\n",
       "      <td>0</td>\n",
       "      <td>0</td>\n",
       "      <td>0</td>\n",
       "      <td>0</td>\n",
       "      <td>3</td>\n",
       "    </tr>\n",
       "    <tr>\n",
       "      <th>Dx:Cancer</th>\n",
       "      <td>668</td>\n",
       "      <td>NaN</td>\n",
       "      <td>NaN</td>\n",
       "      <td>NaN</td>\n",
       "      <td>0.0254491</td>\n",
       "      <td>0.157603</td>\n",
       "      <td>0</td>\n",
       "      <td>0</td>\n",
       "      <td>0</td>\n",
       "      <td>0</td>\n",
       "      <td>1</td>\n",
       "    </tr>\n",
       "    <tr>\n",
       "      <th>Dx:CIN</th>\n",
       "      <td>668</td>\n",
       "      <td>NaN</td>\n",
       "      <td>NaN</td>\n",
       "      <td>NaN</td>\n",
       "      <td>0.00449102</td>\n",
       "      <td>0.0669145</td>\n",
       "      <td>0</td>\n",
       "      <td>0</td>\n",
       "      <td>0</td>\n",
       "      <td>0</td>\n",
       "      <td>1</td>\n",
       "    </tr>\n",
       "    <tr>\n",
       "      <th>Dx:HPV</th>\n",
       "      <td>668</td>\n",
       "      <td>NaN</td>\n",
       "      <td>NaN</td>\n",
       "      <td>NaN</td>\n",
       "      <td>0.0239521</td>\n",
       "      <td>0.153015</td>\n",
       "      <td>0</td>\n",
       "      <td>0</td>\n",
       "      <td>0</td>\n",
       "      <td>0</td>\n",
       "      <td>1</td>\n",
       "    </tr>\n",
       "    <tr>\n",
       "      <th>Dx</th>\n",
       "      <td>668</td>\n",
       "      <td>NaN</td>\n",
       "      <td>NaN</td>\n",
       "      <td>NaN</td>\n",
       "      <td>0.0239521</td>\n",
       "      <td>0.153015</td>\n",
       "      <td>0</td>\n",
       "      <td>0</td>\n",
       "      <td>0</td>\n",
       "      <td>0</td>\n",
       "      <td>1</td>\n",
       "    </tr>\n",
       "    <tr>\n",
       "      <th>Hinselmann</th>\n",
       "      <td>668</td>\n",
       "      <td>NaN</td>\n",
       "      <td>NaN</td>\n",
       "      <td>NaN</td>\n",
       "      <td>0.0449102</td>\n",
       "      <td>0.207262</td>\n",
       "      <td>0</td>\n",
       "      <td>0</td>\n",
       "      <td>0</td>\n",
       "      <td>0</td>\n",
       "      <td>1</td>\n",
       "    </tr>\n",
       "    <tr>\n",
       "      <th>Schiller</th>\n",
       "      <td>668</td>\n",
       "      <td>NaN</td>\n",
       "      <td>NaN</td>\n",
       "      <td>NaN</td>\n",
       "      <td>0.0943114</td>\n",
       "      <td>0.29248</td>\n",
       "      <td>0</td>\n",
       "      <td>0</td>\n",
       "      <td>0</td>\n",
       "      <td>0</td>\n",
       "      <td>1</td>\n",
       "    </tr>\n",
       "    <tr>\n",
       "      <th>Citology</th>\n",
       "      <td>668</td>\n",
       "      <td>NaN</td>\n",
       "      <td>NaN</td>\n",
       "      <td>NaN</td>\n",
       "      <td>0.0583832</td>\n",
       "      <td>0.234642</td>\n",
       "      <td>0</td>\n",
       "      <td>0</td>\n",
       "      <td>0</td>\n",
       "      <td>0</td>\n",
       "      <td>1</td>\n",
       "    </tr>\n",
       "    <tr>\n",
       "      <th>Biopsy</th>\n",
       "      <td>668</td>\n",
       "      <td>NaN</td>\n",
       "      <td>NaN</td>\n",
       "      <td>NaN</td>\n",
       "      <td>0.0673653</td>\n",
       "      <td>0.250841</td>\n",
       "      <td>0</td>\n",
       "      <td>0</td>\n",
       "      <td>0</td>\n",
       "      <td>0</td>\n",
       "      <td>1</td>\n",
       "    </tr>\n",
       "  </tbody>\n",
       "</table>\n",
       "</div>"
      ],
      "text/plain": [
       "                                   count unique   top freq        mean  \\\n",
       "Age                                  668    NaN   NaN  NaN      27.265   \n",
       "Number of sexual partners            668      9   2.0  214         NaN   \n",
       "First sexual intercourse             668     21  15.0  136         NaN   \n",
       "Num of pregnancies                   668     11   1.0  214         NaN   \n",
       "Smokes                               668      2   0.0  572         NaN   \n",
       "Smokes (years)                       668     30   0.0  572         NaN   \n",
       "Smokes (packs/year)                  668     53   0.0  572         NaN   \n",
       "Hormonal Contraceptives              668      2   1.0  430         NaN   \n",
       "Hormonal Contraceptives (years)      668     38   0.0  238         NaN   \n",
       "IUD                                  668      2   0.0  593         NaN   \n",
       "IUD (years)                          668     25   0.0  593         NaN   \n",
       "STDs                                 668      2   0.0  603         NaN   \n",
       "STDs (number)                        668      5   0.0  603         NaN   \n",
       "STDs:condylomatosis                  668      2   0.0  631         NaN   \n",
       "STDs:cervical condylomatosis         668      1   0.0  668         NaN   \n",
       "STDs:vaginal condylomatosis          668      2   0.0  664         NaN   \n",
       "STDs:vulvo-perineal condylomatosis   668      2   0.0  632         NaN   \n",
       "STDs:syphilis                        668      2   0.0  653         NaN   \n",
       "STDs:pelvic inflammatory disease     668      2   0.0  667         NaN   \n",
       "STDs:genital herpes                  668      2   0.0  667         NaN   \n",
       "STDs:molluscum contagiosum           668      2   0.0  667         NaN   \n",
       "STDs:AIDS                            668      1   0.0  668         NaN   \n",
       "STDs:HIV                             668      2   0.0  655         NaN   \n",
       "STDs:Hepatitis B                     668      2   0.0  667         NaN   \n",
       "STDs:HPV                             668      2   0.0  666         NaN   \n",
       "STDs: Number of diagnosis            668    NaN   NaN  NaN   0.0928144   \n",
       "Dx:Cancer                            668    NaN   NaN  NaN   0.0254491   \n",
       "Dx:CIN                               668    NaN   NaN  NaN  0.00449102   \n",
       "Dx:HPV                               668    NaN   NaN  NaN   0.0239521   \n",
       "Dx                                   668    NaN   NaN  NaN   0.0239521   \n",
       "Hinselmann                           668    NaN   NaN  NaN   0.0449102   \n",
       "Schiller                             668    NaN   NaN  NaN   0.0943114   \n",
       "Citology                             668    NaN   NaN  NaN   0.0583832   \n",
       "Biopsy                               668    NaN   NaN  NaN   0.0673653   \n",
       "\n",
       "                                          std  min  25%  50%  75%  max  \n",
       "Age                                   8.72743   13   21   26   33   84  \n",
       "Number of sexual partners                 NaN  NaN  NaN  NaN  NaN  NaN  \n",
       "First sexual intercourse                  NaN  NaN  NaN  NaN  NaN  NaN  \n",
       "Num of pregnancies                        NaN  NaN  NaN  NaN  NaN  NaN  \n",
       "Smokes                                    NaN  NaN  NaN  NaN  NaN  NaN  \n",
       "Smokes (years)                            NaN  NaN  NaN  NaN  NaN  NaN  \n",
       "Smokes (packs/year)                       NaN  NaN  NaN  NaN  NaN  NaN  \n",
       "Hormonal Contraceptives                   NaN  NaN  NaN  NaN  NaN  NaN  \n",
       "Hormonal Contraceptives (years)           NaN  NaN  NaN  NaN  NaN  NaN  \n",
       "IUD                                       NaN  NaN  NaN  NaN  NaN  NaN  \n",
       "IUD (years)                               NaN  NaN  NaN  NaN  NaN  NaN  \n",
       "STDs                                      NaN  NaN  NaN  NaN  NaN  NaN  \n",
       "STDs (number)                             NaN  NaN  NaN  NaN  NaN  NaN  \n",
       "STDs:condylomatosis                       NaN  NaN  NaN  NaN  NaN  NaN  \n",
       "STDs:cervical condylomatosis              NaN  NaN  NaN  NaN  NaN  NaN  \n",
       "STDs:vaginal condylomatosis               NaN  NaN  NaN  NaN  NaN  NaN  \n",
       "STDs:vulvo-perineal condylomatosis        NaN  NaN  NaN  NaN  NaN  NaN  \n",
       "STDs:syphilis                             NaN  NaN  NaN  NaN  NaN  NaN  \n",
       "STDs:pelvic inflammatory disease          NaN  NaN  NaN  NaN  NaN  NaN  \n",
       "STDs:genital herpes                       NaN  NaN  NaN  NaN  NaN  NaN  \n",
       "STDs:molluscum contagiosum                NaN  NaN  NaN  NaN  NaN  NaN  \n",
       "STDs:AIDS                                 NaN  NaN  NaN  NaN  NaN  NaN  \n",
       "STDs:HIV                                  NaN  NaN  NaN  NaN  NaN  NaN  \n",
       "STDs:Hepatitis B                          NaN  NaN  NaN  NaN  NaN  NaN  \n",
       "STDs:HPV                                  NaN  NaN  NaN  NaN  NaN  NaN  \n",
       "STDs: Number of diagnosis            0.310355    0    0    0    0    3  \n",
       "Dx:Cancer                            0.157603    0    0    0    0    1  \n",
       "Dx:CIN                              0.0669145    0    0    0    0    1  \n",
       "Dx:HPV                               0.153015    0    0    0    0    1  \n",
       "Dx                                   0.153015    0    0    0    0    1  \n",
       "Hinselmann                           0.207262    0    0    0    0    1  \n",
       "Schiller                              0.29248    0    0    0    0    1  \n",
       "Citology                             0.234642    0    0    0    0    1  \n",
       "Biopsy                               0.250841    0    0    0    0    1  "
      ]
     },
     "execution_count": 8,
     "metadata": {},
     "output_type": "execute_result"
    }
   ],
   "source": [
    "# Statistics of all variables\n",
    "df.describe(include='all').T"
   ]
  },
  {
   "cell_type": "markdown",
   "metadata": {},
   "source": [
    "Let's look at the share of values in the target variables."
   ]
  },
  {
   "cell_type": "code",
   "execution_count": 9,
   "metadata": {},
   "outputs": [
    {
     "data": {
      "text/plain": [
       "0    605\n",
       "1     63\n",
       "Name: Schiller, dtype: int64"
      ]
     },
     "execution_count": 9,
     "metadata": {},
     "output_type": "execute_result"
    }
   ],
   "source": [
    "df['Schiller'].value_counts()"
   ]
  },
  {
   "cell_type": "code",
   "execution_count": 10,
   "metadata": {},
   "outputs": [
    {
     "data": {
      "text/plain": [
       "0    629\n",
       "1     39\n",
       "Name: Citology, dtype: int64"
      ]
     },
     "execution_count": 10,
     "metadata": {},
     "output_type": "execute_result"
    }
   ],
   "source": [
    "df['Citology'].value_counts()"
   ]
  },
  {
   "cell_type": "code",
   "execution_count": 11,
   "metadata": {},
   "outputs": [
    {
     "data": {
      "text/plain": [
       "0    623\n",
       "1     45\n",
       "Name: Biopsy, dtype: int64"
      ]
     },
     "execution_count": 11,
     "metadata": {},
     "output_type": "execute_result"
    }
   ],
   "source": [
    "df['Biopsy'].value_counts()"
   ]
  },
  {
   "cell_type": "markdown",
   "metadata": {},
   "source": [
    "The positive class in each target variable exists only in 6-9% of the observations, and thus the dataset is imbalanced from class point of view."
   ]
  },
  {
   "cell_type": "code",
   "execution_count": 12,
   "metadata": {},
   "outputs": [
    {
     "data": {
      "text/plain": [
       "(10.0, 0.0)"
      ]
     },
     "execution_count": 12,
     "metadata": {},
     "output_type": "execute_result"
    },
    {
     "data": {
      "image/png": "[encoded data removed]",
      "text/plain": [
       "<Figure size 432x288 with 2 Axes>"
      ]
     },
     "metadata": {
      "needs_background": "light"
     },
     "output_type": "display_data"
    }
   ],
   "source": [
    "# Create a heatmap showing correlation between numerical variables\n",
    "corr = df.corr().round(2)\n",
    "ax=sns.heatmap(corr,annot=True,fmt='.2f')\n",
    "bottom, top=ax.get_ylim()\n",
    "ax.set_ylim(bottom+0.5,top-0.5)"
   ]
  },
  {
   "cell_type": "code",
   "execution_count": 13,
   "metadata": {},
   "outputs": [
    {
     "data": {
      "text/plain": [
       "Schiller                     1.00\n",
       "Biopsy                       0.73\n",
       "Hinselmann                   0.65\n",
       "Citology                     0.38\n",
       "Dx:HPV                       0.15\n",
       "Dx:Cancer                    0.14\n",
       "STDs: Number of diagnosis    0.12\n",
       "Dx                           0.08\n",
       "Age                          0.08\n",
       "Dx:CIN                      -0.02\n",
       "Name: Schiller, dtype: float64"
      ]
     },
     "execution_count": 13,
     "metadata": {},
     "output_type": "execute_result"
    }
   ],
   "source": [
    "# Let's look at how much each attribute correlate with the target value 'Schiller'\n",
    "corr['Schiller'].sort_values(ascending=False)"
   ]
  },
  {
   "cell_type": "code",
   "execution_count": 14,
   "metadata": {},
   "outputs": [
    {
     "data": {
      "text/plain": [
       "Citology                     1.00\n",
       "Schiller                     0.38\n",
       "Biopsy                       0.34\n",
       "Hinselmann                   0.16\n",
       "Dx                           0.13\n",
       "Dx:HPV                       0.13\n",
       "Dx:Cancer                    0.12\n",
       "STDs: Number of diagnosis    0.07\n",
       "Dx:CIN                      -0.02\n",
       "Age                         -0.03\n",
       "Name: Citology, dtype: float64"
      ]
     },
     "execution_count": 14,
     "metadata": {},
     "output_type": "execute_result"
    }
   ],
   "source": [
    "# Let's look at how much each attribute correlate with the target value 'Citology'\n",
    "corr['Citology'].sort_values(ascending=False)"
   ]
  },
  {
   "cell_type": "code",
   "execution_count": 15,
   "metadata": {},
   "outputs": [
    {
     "data": {
      "text/plain": [
       "Biopsy                       1.00\n",
       "Schiller                     0.73\n",
       "Hinselmann                   0.52\n",
       "Citology                     0.34\n",
       "Dx:HPV                       0.19\n",
       "Dx:Cancer                    0.18\n",
       "Dx                           0.15\n",
       "STDs: Number of diagnosis    0.09\n",
       "Dx:CIN                       0.07\n",
       "Age                          0.06\n",
       "Name: Biopsy, dtype: float64"
      ]
     },
     "execution_count": 15,
     "metadata": {},
     "output_type": "execute_result"
    }
   ],
   "source": [
    "# Let's look at how much each attribute correlate with the target value 'Biopsy'\n",
    "corr['Biopsy'].sort_values(ascending=False)"
   ]
  },
  {
   "cell_type": "code",
   "execution_count": 16,
   "metadata": {},
   "outputs": [
    {
     "data": {
      "image/png": "[encoded data removed]",
      "text/plain": [
       "<Figure size 1440x1080 with 12 Axes>"
      ]
     },
     "metadata": {
      "needs_background": "light"
     },
     "output_type": "display_data"
    }
   ],
   "source": [
    "# Create histograms of different features\n",
    "df.hist(bins=50,figsize=(20,15))\n",
    "plt.show()"
   ]
  },
  {
   "cell_type": "markdown",
   "metadata": {},
   "source": [
    "## Developing a classification model"
   ]
  },
  {
   "cell_type": "markdown",
   "metadata": {},
   "source": [
    "One point to note for the model is that there are three target variables in the dataset. Thus the model has to be such that it works for multilabel classification."
   ]
  },
  {
   "cell_type": "markdown",
   "metadata": {},
   "source": [
    "### a) Create training and test sets"
   ]
  },
  {
   "cell_type": "code",
   "execution_count": 17,
   "metadata": {},
   "outputs": [],
   "source": [
    "from sklearn.model_selection import cross_val_score, cross_val_predict,train_test_split, GridSearchCV\n",
    "from sklearn.metrics import confusion_matrix,precision_score,recall_score,f1_score,precision_recall_curve,roc_curve"
   ]
  },
  {
   "cell_type": "code",
   "execution_count": 18,
   "metadata": {},
   "outputs": [],
   "source": [
    "attributes=list(df.columns[:-3])\n",
    "targets=list(df.columns[-3:])\n",
    "data=df.astype(np.float64)"
   ]
  },
  {
   "cell_type": "code",
   "execution_count": 19,
   "metadata": {},
   "outputs": [
    {
     "data": {
      "text/plain": [
       "((534, 31), (534, 3), (134, 31), (134, 3))"
      ]
     },
     "execution_count": 19,
     "metadata": {},
     "output_type": "execute_result"
    }
   ],
   "source": [
    "# Create training and test sets\n",
    "X_train_df, X_test_df, y_train_df, y_test_df = train_test_split(data[attributes],\n",
    "                                                  data[targets], test_size=0.2, random_state = 42)\n",
    "X_train=np.array(X_train_df)\n",
    "y_train=np.array(y_train_df)\n",
    "X_test=np.array(X_test_df)\n",
    "y_test=np.array(y_test_df)\n",
    "X_train.shape,y_train.shape,X_test.shape,y_test.shape"
   ]
  },
  {
   "cell_type": "markdown",
   "metadata": {},
   "source": [
    "### a) K nearest neighbors classifier"
   ]
  },
  {
   "cell_type": "markdown",
   "metadata": {},
   "source": [
    "Let's first try the KNeighbors classifier, since that is at least mentioned to handle multilabel classification."
   ]
  },
  {
   "cell_type": "code",
   "execution_count": 20,
   "metadata": {},
   "outputs": [],
   "source": [
    "from sklearn.pipeline import Pipeline\n",
    "from sklearn.preprocessing import StandardScaler\n",
    "from sklearn.neighbors import KNeighborsClassifier"
   ]
  },
  {
   "cell_type": "code",
   "execution_count": 21,
   "metadata": {},
   "outputs": [],
   "source": [
    "#Let's create a pipeline for the model\n",
    "kn_clf=Pipeline([\n",
    "    (\"std_scaler\",StandardScaler()),\n",
    "    (\"name\",KNeighborsClassifier())\n",
    "])"
   ]
  },
  {
   "cell_type": "code",
   "execution_count": 22,
   "metadata": {},
   "outputs": [
    {
     "data": {
      "text/plain": [
       "Pipeline(memory=None,\n",
       "     steps=[('std_scaler', StandardScaler(copy=True, with_mean=True, with_std=True)), ('name', KNeighborsClassifier(algorithm='auto', leaf_size=30, metric='minkowski',\n",
       "           metric_params=None, n_jobs=None, n_neighbors=5, p=2,\n",
       "           weights='uniform'))])"
      ]
     },
     "execution_count": 22,
     "metadata": {},
     "output_type": "execute_result"
    }
   ],
   "source": [
    "kn_clf.fit(X_train,y_train)"
   ]
  },
  {
   "cell_type": "markdown",
   "metadata": {},
   "source": [
    "Let's evaluate the model."
   ]
  },
  {
   "cell_type": "code",
   "execution_count": 23,
   "metadata": {},
   "outputs": [],
   "source": [
    "# Create the predictions with the model\n",
    "y_train_knn_pred=cross_val_predict(kn_clf,X_train,y_train,cv=5)"
   ]
  },
  {
   "cell_type": "code",
   "execution_count": 24,
   "metadata": {},
   "outputs": [
    {
     "name": "stdout",
     "output_type": "stream",
     "text": [
      "Target variable:  0\n",
      "[[482   2]\n",
      " [ 32  18]]\n",
      "Target variable:  1\n",
      "[[505   1]\n",
      " [ 28   0]]\n",
      "Target variable:  2\n",
      "[[493   7]\n",
      " [ 23  11]]\n"
     ]
    }
   ],
   "source": [
    "# Let's look at the confusion matrix for the three target variables\n",
    "for i in range(3):\n",
    "    print('Target variable: ',i)\n",
    "    print(confusion_matrix(y_train[:,i],y_train_knn_pred[:,i]))"
   ]
  },
  {
   "cell_type": "code",
   "execution_count": 25,
   "metadata": {},
   "outputs": [
    {
     "name": "stdout",
     "output_type": "stream",
     "text": [
      "Target variable:  0\n",
      "Precision score:  0.9\n",
      "Recall score:  0.36\n",
      "F1-score:  0.5142857142857143\n",
      "------------------\n",
      "Target variable:  1\n",
      "Precision score:  0.0\n",
      "Recall score:  0.0\n",
      "F1-score:  0.0\n",
      "------------------\n",
      "Target variable:  2\n",
      "Precision score:  0.6111111111111112\n",
      "Recall score:  0.3235294117647059\n",
      "F1-score:  0.42307692307692313\n",
      "------------------\n"
     ]
    }
   ],
   "source": [
    "# Get the precision, recall and F1 scores for each target variable\n",
    "for i in range(3):\n",
    "    print('Target variable: ',i)\n",
    "    print('Precision score: ',precision_score(y_train[:,i],y_train_knn_pred[:,i]))\n",
    "    print('Recall score: ',recall_score(y_train[:,i],y_train_knn_pred[:,i]))\n",
    "    print('F1-score: ',f1_score(y_train[:,i],y_train_knn_pred[:,i]))\n",
    "    print('------------------')"
   ]
  },
  {
   "cell_type": "code",
   "execution_count": 26,
   "metadata": {},
   "outputs": [
    {
     "data": {
      "text/plain": [
       "0.3124542124542125"
      ]
     },
     "execution_count": 26,
     "metadata": {},
     "output_type": "execute_result"
    }
   ],
   "source": [
    "# Let's compute the average score across all three target variables\n",
    "# Average method is 'macro', assuming that all target variables are as important.\n",
    "f1_score(y_train,y_train_knn_pred,average='macro')"
   ]
  },
  {
   "cell_type": "code",
   "execution_count": 27,
   "metadata": {},
   "outputs": [
    {
     "data": {
      "text/plain": [
       "0.3580259026687599"
      ]
     },
     "execution_count": 27,
     "metadata": {},
     "output_type": "execute_result"
    }
   ],
   "source": [
    "# The alternative for average method is 'weighted', the scores are weighted according to the number of instances with a certain target label.\n",
    "f1_score(y_train,y_train_knn_pred,average='weighted')"
   ]
  },
  {
   "cell_type": "markdown",
   "metadata": {},
   "source": [
    "The score is not very good. Let's try random forest classification next."
   ]
  },
  {
   "cell_type": "markdown",
   "metadata": {},
   "source": [
    "### b) Random forest classification - with multilabel targets"
   ]
  },
  {
   "cell_type": "code",
   "execution_count": 28,
   "metadata": {},
   "outputs": [],
   "source": [
    "from sklearn.ensemble import RandomForestClassifier"
   ]
  },
  {
   "cell_type": "markdown",
   "metadata": {},
   "source": [
    "Let's create a separate model for each target variable."
   ]
  },
  {
   "cell_type": "code",
   "execution_count": 29,
   "metadata": {},
   "outputs": [],
   "source": [
    "# Let's create parameter grid for the grid search\n",
    "param_grid=[\n",
    "    {'n_estimators':[3,10,30,50],'max_features':[2,5,10,15,20,25]}\n",
    "]"
   ]
  },
  {
   "cell_type": "code",
   "execution_count": 30,
   "metadata": {},
   "outputs": [],
   "source": [
    "forest_clf0=RandomForestClassifier(n_estimators=10,class_weight='balanced',random_state=42)\n",
    "forest_clf1=RandomForestClassifier(n_estimators=10,class_weight='balanced',random_state=42)\n",
    "forest_clf2=RandomForestClassifier(n_estimators=10,class_weight='balanced',random_state=42)"
   ]
  },
  {
   "cell_type": "code",
   "execution_count": 31,
   "metadata": {},
   "outputs": [
    {
     "name": "stderr",
     "output_type": "stream",
     "text": [
      "/home/jupyterlab/conda/envs/python/lib/python3.6/site-packages/sklearn/model_selection/_search.py:841: DeprecationWarning: The default of the `iid` parameter will change from True to False in version 0.22 and will be removed in 0.24. This will change numeric results when test-set sizes are unequal.\n",
      "  DeprecationWarning)\n",
      "/home/jupyterlab/conda/envs/python/lib/python3.6/site-packages/sklearn/model_selection/_search.py:841: DeprecationWarning: The default of the `iid` parameter will change from True to False in version 0.22 and will be removed in 0.24. This will change numeric results when test-set sizes are unequal.\n",
      "  DeprecationWarning)\n",
      "/home/jupyterlab/conda/envs/python/lib/python3.6/site-packages/sklearn/model_selection/_search.py:841: DeprecationWarning: The default of the `iid` parameter will change from True to False in version 0.22 and will be removed in 0.24. This will change numeric results when test-set sizes are unequal.\n",
      "  DeprecationWarning)\n"
     ]
    },
    {
     "data": {
      "text/plain": [
       "GridSearchCV(cv=5, error_score='raise-deprecating',\n",
       "       estimator=RandomForestClassifier(bootstrap=True, class_weight='balanced',\n",
       "            criterion='gini', max_depth=None, max_features='auto',\n",
       "            max_leaf_nodes=None, min_impurity_decrease=0.0,\n",
       "            min_impurity_split=None, min_samples_leaf=1,\n",
       "            min_samples_split=2, min_weight_fraction_leaf=0.0,\n",
       "            n_estimators=10, n_jobs=None, oob_score=False, random_state=42,\n",
       "            verbose=0, warm_start=False),\n",
       "       fit_params=None, iid='warn', n_jobs=None,\n",
       "       param_grid=[{'n_estimators': [3, 10, 30, 50], 'max_features': [2, 5, 10, 15, 20, 25]}],\n",
       "       pre_dispatch='2*n_jobs', refit=True, return_train_score=True,\n",
       "       scoring='recall', verbose=0)"
      ]
     },
     "execution_count": 31,
     "metadata": {},
     "output_type": "execute_result"
    }
   ],
   "source": [
    "grid_search0=GridSearchCV(forest_clf0,param_grid,cv=5,scoring='recall',return_train_score=True)\n",
    "grid_search0.fit(X_train,y_train[:,0])\n",
    "grid_search1=GridSearchCV(forest_clf1,param_grid,cv=5,scoring='recall',return_train_score=True)\n",
    "grid_search1.fit(X_train,y_train[:,1])\n",
    "grid_search2=GridSearchCV(forest_clf2,param_grid,cv=5,scoring='recall',return_train_score=True)\n",
    "grid_search2.fit(X_train,y_train[:,2])"
   ]
  },
  {
   "cell_type": "code",
   "execution_count": 32,
   "metadata": {},
   "outputs": [
    {
     "name": "stdout",
     "output_type": "stream",
     "text": [
      "Target 0:  {'max_features': 5, 'n_estimators': 3}\n",
      "Target 1:  {'max_features': 10, 'n_estimators': 3}\n",
      "Target 2:  {'max_features': 2, 'n_estimators': 3}\n"
     ]
    }
   ],
   "source": [
    "# Let's look at the best parameters\n",
    "print('Target 0: ',grid_search0.best_params_)\n",
    "print('Target 1: ',grid_search1.best_params_)\n",
    "print('Target 2: ',grid_search2.best_params_)"
   ]
  },
  {
   "cell_type": "code",
   "execution_count": 33,
   "metadata": {},
   "outputs": [
    {
     "name": "stdout",
     "output_type": "stream",
     "text": [
      "Target 0:\n",
      "0.48014981273408236 {'max_features': 2, 'n_estimators': 3}\n",
      "0.35992509363295877 {'max_features': 2, 'n_estimators': 10}\n",
      "0.29981273408239706 {'max_features': 2, 'n_estimators': 30}\n",
      "0.3 {'max_features': 2, 'n_estimators': 50}\n",
      "0.5602996254681647 {'max_features': 5, 'n_estimators': 3}\n",
      "0.42003745318352065 {'max_features': 5, 'n_estimators': 10}\n",
      "0.4400749063670412 {'max_features': 5, 'n_estimators': 30}\n",
      "0.4601123595505618 {'max_features': 5, 'n_estimators': 50}\n",
      "0.5202247191011236 {'max_features': 10, 'n_estimators': 3}\n",
      "0.4601123595505618 {'max_features': 10, 'n_estimators': 10}\n",
      "0.4601123595505618 {'max_features': 10, 'n_estimators': 30}\n",
      "0.4601123595505618 {'max_features': 10, 'n_estimators': 50}\n",
      "0.48014981273408236 {'max_features': 15, 'n_estimators': 3}\n",
      "0.48014981273408236 {'max_features': 15, 'n_estimators': 10}\n",
      "0.48014981273408236 {'max_features': 15, 'n_estimators': 30}\n",
      "0.48014981273408236 {'max_features': 15, 'n_estimators': 50}\n",
      "0.500187265917603 {'max_features': 20, 'n_estimators': 3}\n",
      "0.4601123595505618 {'max_features': 20, 'n_estimators': 10}\n",
      "0.4601123595505618 {'max_features': 20, 'n_estimators': 30}\n",
      "0.4601123595505618 {'max_features': 20, 'n_estimators': 50}\n",
      "0.500187265917603 {'max_features': 25, 'n_estimators': 3}\n",
      "0.48014981273408247 {'max_features': 25, 'n_estimators': 10}\n",
      "0.4601123595505618 {'max_features': 25, 'n_estimators': 30}\n",
      "0.4601123595505618 {'max_features': 25, 'n_estimators': 50}\n",
      "Target 1:\n",
      "0.033395755305867664 {'max_features': 2, 'n_estimators': 3}\n",
      "0.0 {'max_features': 2, 'n_estimators': 10}\n",
      "0.0 {'max_features': 2, 'n_estimators': 30}\n",
      "0.0 {'max_features': 2, 'n_estimators': 50}\n",
      "0.0 {'max_features': 5, 'n_estimators': 3}\n",
      "0.0 {'max_features': 5, 'n_estimators': 10}\n",
      "0.0 {'max_features': 5, 'n_estimators': 30}\n",
      "0.0 {'max_features': 5, 'n_estimators': 50}\n",
      "0.03970037453183521 {'max_features': 10, 'n_estimators': 3}\n",
      "0.0 {'max_features': 10, 'n_estimators': 10}\n",
      "0.0 {'max_features': 10, 'n_estimators': 30}\n",
      "0.0 {'max_features': 10, 'n_estimators': 50}\n",
      "0.0 {'max_features': 15, 'n_estimators': 3}\n",
      "0.0 {'max_features': 15, 'n_estimators': 10}\n",
      "0.0 {'max_features': 15, 'n_estimators': 30}\n",
      "0.0 {'max_features': 15, 'n_estimators': 50}\n",
      "0.0 {'max_features': 20, 'n_estimators': 3}\n",
      "0.0 {'max_features': 20, 'n_estimators': 10}\n",
      "0.0 {'max_features': 20, 'n_estimators': 30}\n",
      "0.0 {'max_features': 20, 'n_estimators': 50}\n",
      "0.0 {'max_features': 25, 'n_estimators': 3}\n",
      "0.0 {'max_features': 25, 'n_estimators': 10}\n",
      "0.0 {'max_features': 25, 'n_estimators': 30}\n",
      "0.0 {'max_features': 25, 'n_estimators': 50}\n",
      "Target 2:\n",
      "0.4141252006420545 {'max_features': 2, 'n_estimators': 3}\n",
      "0.23345817727840198 {'max_features': 2, 'n_estimators': 10}\n",
      "0.1431246655965757 {'max_features': 2, 'n_estimators': 30}\n",
      "0.11449973247726056 {'max_features': 2, 'n_estimators': 50}\n",
      "0.3765828428749776 {'max_features': 5, 'n_estimators': 3}\n",
      "0.2048332441590868 {'max_features': 5, 'n_estimators': 10}\n",
      "0.3237916889602282 {'max_features': 5, 'n_estimators': 30}\n",
      "0.14758337792045656 {'max_features': 5, 'n_estimators': 50}\n",
      "0.3568753344034243 {'max_features': 10, 'n_estimators': 3}\n",
      "0.3855002675227394 {'max_features': 10, 'n_estimators': 10}\n",
      "0.32825040128410915 {'max_features': 10, 'n_estimators': 30}\n",
      "0.3568753344034243 {'max_features': 10, 'n_estimators': 50}\n",
      "0.35241662207954333 {'max_features': 15, 'n_estimators': 3}\n",
      "0.3855002675227394 {'max_features': 15, 'n_estimators': 10}\n",
      "0.3855002675227394 {'max_features': 15, 'n_estimators': 30}\n",
      "0.4141252006420545 {'max_features': 15, 'n_estimators': 50}\n",
      "0.3568753344034243 {'max_features': 20, 'n_estimators': 3}\n",
      "0.4141252006420545 {'max_features': 20, 'n_estimators': 10}\n",
      "0.3568753344034243 {'max_features': 20, 'n_estimators': 30}\n",
      "0.3568753344034243 {'max_features': 20, 'n_estimators': 50}\n",
      "0.35241662207954333 {'max_features': 25, 'n_estimators': 3}\n",
      "0.38104155519885846 {'max_features': 25, 'n_estimators': 10}\n",
      "0.4141252006420545 {'max_features': 25, 'n_estimators': 30}\n",
      "0.4141252006420545 {'max_features': 25, 'n_estimators': 50}\n"
     ]
    }
   ],
   "source": [
    "# Then look at the scores for different parameter combinations\n",
    "cvres0=grid_search0.cv_results_\n",
    "cvres1=grid_search1.cv_results_\n",
    "cvres2=grid_search2.cv_results_\n",
    "print('Target 0:')\n",
    "for mean_score,params in zip(cvres0[\"mean_test_score\"],cvres0[\"params\"]):\n",
    "    print(mean_score,params)\n",
    "print('Target 1:')\n",
    "for mean_score,params in zip(cvres1[\"mean_test_score\"],cvres1[\"params\"]):\n",
    "    print(mean_score,params)\n",
    "print('Target 2:')\n",
    "for mean_score,params in zip(cvres2[\"mean_test_score\"],cvres2[\"params\"]):\n",
    "    print(mean_score,params)"
   ]
  },
  {
   "cell_type": "markdown",
   "metadata": {},
   "source": [
    "Let's look at feature importances"
   ]
  },
  {
   "cell_type": "code",
   "execution_count": 34,
   "metadata": {},
   "outputs": [
    {
     "name": "stdout",
     "output_type": "stream",
     "text": [
      "Target: 0\n"
     ]
    },
    {
     "data": {
      "text/plain": [
       "[(0.34496541580080287, 'Hinselmann'),\n",
       " (0.1090101235932859, 'Age'),\n",
       " (0.09229840047833436, 'Hormonal Contraceptives (years)'),\n",
       " (0.09123148413884409, 'Num of pregnancies'),\n",
       " (0.08841038036241931, 'First sexual intercourse'),\n",
       " (0.07017194311442272, 'Number of sexual partners'),\n",
       " (0.04267510141613174, 'IUD (years)'),\n",
       " (0.037753031943605075, 'Smokes'),\n",
       " (0.02509481975881291, 'Hormonal Contraceptives'),\n",
       " (0.024793828134451846, 'STDs:condylomatosis'),\n",
       " (0.017279243507887797, 'STDs: Number of diagnosis'),\n",
       " (0.016458496891643335, 'Smokes (years)'),\n",
       " (0.010777464175144184, 'STDs:vulvo-perineal condylomatosis'),\n",
       " (0.010346218019159423, 'Smokes (packs/year)'),\n",
       " (0.005820156534027507, 'Dx:Cancer'),\n",
       " (0.005311961042487796, 'Dx'),\n",
       " (0.004711781447427754, 'IUD'),\n",
       " (0.0024526644732075363, 'STDs:syphilis'),\n",
       " (0.0002827578044274439, 'STDs:vaginal condylomatosis'),\n",
       " (8.717549261320934e-05, 'STDs (number)'),\n",
       " (6.755187086311181e-05, 'STDs:genital herpes'),\n",
       " (0.0, 'STDs:pelvic inflammatory disease'),\n",
       " (0.0, 'STDs:molluscum contagiosum'),\n",
       " (0.0, 'STDs:cervical condylomatosis'),\n",
       " (0.0, 'STDs:Hepatitis B'),\n",
       " (0.0, 'STDs:HPV'),\n",
       " (0.0, 'STDs:HIV'),\n",
       " (0.0, 'STDs:AIDS'),\n",
       " (0.0, 'STDs'),\n",
       " (0.0, 'Dx:HPV'),\n",
       " (0.0, 'Dx:CIN')]"
      ]
     },
     "execution_count": 34,
     "metadata": {},
     "output_type": "execute_result"
    }
   ],
   "source": [
    "# Then look at feature importances\n",
    "print('Target: 0')\n",
    "feature_importances0=grid_search0.best_estimator_.feature_importances_\n",
    "sorted(zip(feature_importances0,attributes),reverse=True)"
   ]
  },
  {
   "cell_type": "code",
   "execution_count": 35,
   "metadata": {},
   "outputs": [
    {
     "name": "stdout",
     "output_type": "stream",
     "text": [
      "Target: 1\n"
     ]
    },
    {
     "data": {
      "text/plain": [
       "[(0.21856065513167758, 'Age'),\n",
       " (0.1632530559939489, 'First sexual intercourse'),\n",
       " (0.10943815476551955, 'Hormonal Contraceptives (years)'),\n",
       " (0.10652627554832955, 'Num of pregnancies'),\n",
       " (0.08560489435932672, 'Number of sexual partners'),\n",
       " (0.0611240603281995, 'STDs: Number of diagnosis'),\n",
       " (0.05438228457104149, 'Hinselmann'),\n",
       " (0.03964053066499409, 'Dx:HPV'),\n",
       " (0.030571115850700718, 'Smokes (packs/year)'),\n",
       " (0.025019466795854744, 'Dx'),\n",
       " (0.022794807961135616, 'Hormonal Contraceptives'),\n",
       " (0.02222448238633785, 'Smokes (years)'),\n",
       " (0.01907595166144867, 'IUD'),\n",
       " (0.012962370170599674, 'STDs:condylomatosis'),\n",
       " (0.010178381685192809, 'IUD (years)'),\n",
       " (0.008770467713015291, 'Smokes'),\n",
       " (0.007627427211851386, 'STDs:HIV'),\n",
       " (0.0011645876931739728, 'Dx:CIN'),\n",
       " (0.0010810295076519028, 'STDs (number)'),\n",
       " (0.0, 'STDs:vulvo-perineal condylomatosis'),\n",
       " (0.0, 'STDs:vaginal condylomatosis'),\n",
       " (0.0, 'STDs:syphilis'),\n",
       " (0.0, 'STDs:pelvic inflammatory disease'),\n",
       " (0.0, 'STDs:molluscum contagiosum'),\n",
       " (0.0, 'STDs:genital herpes'),\n",
       " (0.0, 'STDs:cervical condylomatosis'),\n",
       " (0.0, 'STDs:Hepatitis B'),\n",
       " (0.0, 'STDs:HPV'),\n",
       " (0.0, 'STDs:AIDS'),\n",
       " (0.0, 'STDs'),\n",
       " (0.0, 'Dx:Cancer')]"
      ]
     },
     "execution_count": 35,
     "metadata": {},
     "output_type": "execute_result"
    }
   ],
   "source": [
    "print('Target: 1')\n",
    "feature_importances1=grid_search1.best_estimator_.feature_importances_\n",
    "sorted(zip(feature_importances1,attributes),reverse=True)"
   ]
  },
  {
   "cell_type": "code",
   "execution_count": 36,
   "metadata": {},
   "outputs": [
    {
     "name": "stdout",
     "output_type": "stream",
     "text": [
      "Target: 2\n"
     ]
    },
    {
     "data": {
      "text/plain": [
       "[(0.31330597006232036, 'Hinselmann'),\n",
       " (0.13700571317168045, 'Age'),\n",
       " (0.11377125627232576, 'Hormonal Contraceptives (years)'),\n",
       " (0.06955375981878349, 'Num of pregnancies'),\n",
       " (0.06310458835397591, 'First sexual intercourse'),\n",
       " (0.05979476847586782, 'Number of sexual partners'),\n",
       " (0.031606832404577546, 'IUD'),\n",
       " (0.031235904453629375, 'IUD (years)'),\n",
       " (0.028892912499402682, 'STDs'),\n",
       " (0.025395052336341692, 'Dx'),\n",
       " (0.024260914488418425, 'Dx:CIN'),\n",
       " (0.024166146959362728, 'STDs (number)'),\n",
       " (0.01673865866778465, 'Smokes (packs/year)'),\n",
       " (0.016331958297098978, 'STDs:genital herpes'),\n",
       " (0.01473376411550257, 'Smokes (years)'),\n",
       " (0.009813943792098838, 'Hormonal Contraceptives'),\n",
       " (0.006796175436160404, 'Dx:HPV'),\n",
       " (0.004912461213374497, 'STDs:condylomatosis'),\n",
       " (0.0028643107498465027, 'Smokes'),\n",
       " (0.0024496531182631154, 'STDs:vulvo-perineal condylomatosis'),\n",
       " (0.0017259291205431555, 'STDs: Number of diagnosis'),\n",
       " (0.001453772825688774, 'STDs:syphilis'),\n",
       " (8.555336695225122e-05, 'Dx:Cancer'),\n",
       " (0.0, 'STDs:vaginal condylomatosis'),\n",
       " (0.0, 'STDs:pelvic inflammatory disease'),\n",
       " (0.0, 'STDs:molluscum contagiosum'),\n",
       " (0.0, 'STDs:cervical condylomatosis'),\n",
       " (0.0, 'STDs:Hepatitis B'),\n",
       " (0.0, 'STDs:HPV'),\n",
       " (0.0, 'STDs:HIV'),\n",
       " (0.0, 'STDs:AIDS')]"
      ]
     },
     "execution_count": 36,
     "metadata": {},
     "output_type": "execute_result"
    }
   ],
   "source": [
    "print('Target: 2')\n",
    "feature_importances2=grid_search2.best_estimator_.feature_importances_\n",
    "sorted(zip(feature_importances2,attributes),reverse=True)"
   ]
  },
  {
   "cell_type": "markdown",
   "metadata": {},
   "source": [
    "There seem to be quite many features which have no importance to the model. Let's remove features with feature importance as 0 for target variable 1."
   ]
  },
  {
   "cell_type": "code",
   "execution_count": 37,
   "metadata": {},
   "outputs": [],
   "source": [
    "# Let's take the best models according to grid search\n",
    "rf_model0=grid_search0.best_estimator_\n",
    "rf_model1=grid_search1.best_estimator_\n",
    "rf_model2=grid_search2.best_estimator_"
   ]
  },
  {
   "cell_type": "code",
   "execution_count": 38,
   "metadata": {},
   "outputs": [],
   "source": [
    "y_train_forest_pred=np.zeros_like(y_train,dtype=float)\n",
    "# Create the predictions with the models\n",
    "y_train_forest_pred[:,0]=cross_val_predict(rf_model0,X_train,y_train[:,0],cv=5)\n",
    "y_train_forest_pred[:,1]=cross_val_predict(rf_model1,X_train,y_train[:,1],cv=5)\n",
    "y_train_forest_pred[:,2]=cross_val_predict(rf_model2,X_train,y_train[:,2],cv=5)"
   ]
  },
  {
   "cell_type": "code",
   "execution_count": 39,
   "metadata": {},
   "outputs": [
    {
     "name": "stdout",
     "output_type": "stream",
     "text": [
      "Target variable:  0\n",
      "[[475   9]\n",
      " [ 22  28]]\n",
      "Target variable:  1\n",
      "[[492  14]\n",
      " [ 27   1]]\n",
      "Target variable:  2\n",
      "[[491   9]\n",
      " [ 20  14]]\n"
     ]
    }
   ],
   "source": [
    "# Let's look at the confusion matrix for the three target variables\n",
    "for i in range(3):\n",
    "    print('Target variable: ',i)\n",
    "    print(confusion_matrix(y_train[:,i],y_train_forest_pred[:,i]))"
   ]
  },
  {
   "cell_type": "code",
   "execution_count": 40,
   "metadata": {},
   "outputs": [
    {
     "name": "stdout",
     "output_type": "stream",
     "text": [
      "Target variable:  0\n",
      "Precision score:  0.7567567567567568\n",
      "Recall score:  0.56\n",
      "F1-score:  0.6436781609195402\n",
      "------------------\n",
      "Target variable:  1\n",
      "Precision score:  0.06666666666666667\n",
      "Recall score:  0.03571428571428571\n",
      "F1-score:  0.046511627906976744\n",
      "------------------\n",
      "Target variable:  2\n",
      "Precision score:  0.6086956521739131\n",
      "Recall score:  0.4117647058823529\n",
      "F1-score:  0.4912280701754386\n",
      "------------------\n"
     ]
    }
   ],
   "source": [
    "# Get the precision, recall and F1 scores for each target variable\n",
    "for i in range(3):\n",
    "    print('Target variable: ',i)\n",
    "    print('Precision score: ',precision_score(y_train[:,i],y_train_forest_pred[:,i]))\n",
    "    print('Recall score: ',recall_score(y_train[:,i],y_train_forest_pred[:,i]))\n",
    "    print('F1-score: ',f1_score(y_train[:,i],y_train_forest_pred[:,i]))\n",
    "    print('------------------')"
   ]
  },
  {
   "cell_type": "markdown",
   "metadata": {},
   "source": [
    "Let's draw precision and recall curves as a function of decision thresholds."
   ]
  },
  {
   "cell_type": "code",
   "execution_count": 41,
   "metadata": {},
   "outputs": [],
   "source": [
    "y_probas_forest=np.zeros_like(y_train,dtype=float)\n",
    "# Create the scores with the models\n",
    "y_probas_forest[:,0]=cross_val_predict(rf_model0,X_train,y_train[:,0],cv=5,method='predict_proba')[:,1]\n",
    "y_probas_forest[:,1]=cross_val_predict(rf_model1,X_train,y_train[:,1],cv=5,method='predict_proba')[:,1]\n",
    "y_probas_forest[:,2]=cross_val_predict(rf_model2,X_train,y_train[:,2],cv=5,method='predict_proba')[:,1]"
   ]
  },
  {
   "cell_type": "code",
   "execution_count": 42,
   "metadata": {},
   "outputs": [],
   "source": [
    "precisions0,recalls0,thresholds0=precision_recall_curve(y_train[:,0],y_probas_forest[:,0])\n",
    "precisions1,recalls1,thresholds1=precision_recall_curve(y_train[:,1],y_probas_forest[:,1])\n",
    "precisions2,recalls2,thresholds2=precision_recall_curve(y_train[:,2],y_probas_forest[:,2])"
   ]
  },
  {
   "cell_type": "code",
   "execution_count": 43,
   "metadata": {},
   "outputs": [],
   "source": [
    "def plot_precision_recall_vs_threshold(precisions,recalls,thresholds):\n",
    "    plt.plot(thresholds,precisions[:-1],\"b--\",label=\"Precision\")\n",
    "    plt.plot(thresholds,recalls[:-1],\"g--\",label=\"Recall\")"
   ]
  },
  {
   "cell_type": "code",
   "execution_count": 44,
   "metadata": {},
   "outputs": [
    {
     "data": {
      "image/png": "[encoded data removed]",
      "text/plain": [
       "<Figure size 432x288 with 1 Axes>"
      ]
     },
     "metadata": {
      "needs_background": "light"
     },
     "output_type": "display_data"
    }
   ],
   "source": [
    "plot_precision_recall_vs_threshold(precisions0,recalls0,thresholds0)\n",
    "plt.legend()\n",
    "plt.show()"
   ]
  },
  {
   "cell_type": "code",
   "execution_count": 45,
   "metadata": {},
   "outputs": [
    {
     "data": {
      "image/png": "[encoded data removed]",
      "text/plain": [
       "<Figure size 432x288 with 1 Axes>"
      ]
     },
     "metadata": {
      "needs_background": "light"
     },
     "output_type": "display_data"
    }
   ],
   "source": [
    "plot_precision_recall_vs_threshold(precisions1,recalls1,thresholds1)\n",
    "plt.legend()\n",
    "plt.show()"
   ]
  },
  {
   "cell_type": "code",
   "execution_count": 46,
   "metadata": {},
   "outputs": [
    {
     "data": {
      "image/png": "[encoded data removed]",
      "text/plain": [
       "<Figure size 432x288 with 1 Axes>"
      ]
     },
     "metadata": {
      "needs_background": "light"
     },
     "output_type": "display_data"
    }
   ],
   "source": [
    "plot_precision_recall_vs_threshold(precisions2,recalls2,thresholds2)\n",
    "plt.legend()\n",
    "plt.show()"
   ]
  },
  {
   "cell_type": "markdown",
   "metadata": {},
   "source": [
    "It seems that the model is performing very poorly for the target variable 1. There was quite many features which had no importance to the model. Let's remove features with feature importance as 0 for target variable 1 and see if the scores improve."
   ]
  },
  {
   "cell_type": "markdown",
   "metadata": {},
   "source": [
    "### c) Random forest classification with reduced set of features (for Target 1 variable)"
   ]
  },
  {
   "cell_type": "markdown",
   "metadata": {},
   "source": [
    "Let's take only those features where feature importance <>0.0, and create a new model for target variable 1."
   ]
  },
  {
   "cell_type": "code",
   "execution_count": 47,
   "metadata": {},
   "outputs": [
    {
     "data": {
      "text/plain": [
       "(534, 23)"
      ]
     },
     "execution_count": 47,
     "metadata": {},
     "output_type": "execute_result"
    }
   ],
   "source": [
    "bool=feature_importances2!=0\n",
    "X_train_reduced=X_train[:,bool]\n",
    "X_train_reduced.shape"
   ]
  },
  {
   "cell_type": "code",
   "execution_count": 48,
   "metadata": {},
   "outputs": [],
   "source": [
    "# Let's create parameter grid for the grid search\n",
    "param_grid=[\n",
    "    {'n_estimators':[3,10,30,50],'max_features':[2,5,10,15,20]}\n",
    "]"
   ]
  },
  {
   "cell_type": "code",
   "execution_count": 49,
   "metadata": {},
   "outputs": [
    {
     "name": "stderr",
     "output_type": "stream",
     "text": [
      "/home/jupyterlab/conda/envs/python/lib/python3.6/site-packages/sklearn/model_selection/_search.py:841: DeprecationWarning: The default of the `iid` parameter will change from True to False in version 0.22 and will be removed in 0.24. This will change numeric results when test-set sizes are unequal.\n",
      "  DeprecationWarning)\n"
     ]
    },
    {
     "data": {
      "text/plain": [
       "GridSearchCV(cv=5, error_score='raise-deprecating',\n",
       "       estimator=RandomForestClassifier(bootstrap=True, class_weight='balanced',\n",
       "            criterion='gini', max_depth=None, max_features='auto',\n",
       "            max_leaf_nodes=None, min_impurity_decrease=0.0,\n",
       "            min_impurity_split=None, min_samples_leaf=1,\n",
       "            min_samples_split=2, min_weight_fraction_leaf=0.0,\n",
       "            n_estimators=10, n_jobs=None, oob_score=False, random_state=42,\n",
       "            verbose=0, warm_start=False),\n",
       "       fit_params=None, iid='warn', n_jobs=None,\n",
       "       param_grid=[{'n_estimators': [3, 10, 30, 50], 'max_features': [2, 5, 10, 15, 20]}],\n",
       "       pre_dispatch='2*n_jobs', refit=True, return_train_score=True,\n",
       "       scoring='recall', verbose=0)"
      ]
     },
     "execution_count": 49,
     "metadata": {},
     "output_type": "execute_result"
    }
   ],
   "source": [
    "grid_search1=GridSearchCV(forest_clf1,param_grid,cv=5,scoring='recall',return_train_score=True)\n",
    "grid_search1.fit(X_train_reduced,y_train[:,1])"
   ]
  },
  {
   "cell_type": "code",
   "execution_count": 50,
   "metadata": {},
   "outputs": [
    {
     "name": "stdout",
     "output_type": "stream",
     "text": [
      "Target 1:  {'max_features': 2, 'n_estimators': 3}\n"
     ]
    }
   ],
   "source": [
    "# Let's look at the best parameters\n",
    "print('Target 1: ',grid_search1.best_params_)"
   ]
  },
  {
   "cell_type": "code",
   "execution_count": 51,
   "metadata": {},
   "outputs": [
    {
     "name": "stdout",
     "output_type": "stream",
     "text": [
      "Target 1:\n",
      "0.03970037453183521 {'max_features': 2, 'n_estimators': 3}\n",
      "0.0 {'max_features': 2, 'n_estimators': 10}\n",
      "0.0 {'max_features': 2, 'n_estimators': 30}\n",
      "0.0 {'max_features': 2, 'n_estimators': 50}\n",
      "0.033707865168539325 {'max_features': 5, 'n_estimators': 3}\n",
      "0.0 {'max_features': 5, 'n_estimators': 10}\n",
      "0.0 {'max_features': 5, 'n_estimators': 30}\n",
      "0.0 {'max_features': 5, 'n_estimators': 50}\n",
      "0.0 {'max_features': 10, 'n_estimators': 3}\n",
      "0.0 {'max_features': 10, 'n_estimators': 10}\n",
      "0.0 {'max_features': 10, 'n_estimators': 30}\n",
      "0.0 {'max_features': 10, 'n_estimators': 50}\n",
      "0.0 {'max_features': 15, 'n_estimators': 3}\n",
      "0.0 {'max_features': 15, 'n_estimators': 10}\n",
      "0.0 {'max_features': 15, 'n_estimators': 30}\n",
      "0.0 {'max_features': 15, 'n_estimators': 50}\n",
      "0.0 {'max_features': 20, 'n_estimators': 3}\n",
      "0.0 {'max_features': 20, 'n_estimators': 10}\n",
      "0.0 {'max_features': 20, 'n_estimators': 30}\n",
      "0.0 {'max_features': 20, 'n_estimators': 50}\n"
     ]
    }
   ],
   "source": [
    "# Then look at feature importances\n",
    "cvres1=grid_search1.cv_results_\n",
    "print('Target 1:')\n",
    "for mean_score,params in zip(cvres1[\"mean_test_score\"],cvres1[\"params\"]):\n",
    "    print(mean_score,params)"
   ]
  },
  {
   "cell_type": "markdown",
   "metadata": {},
   "source": [
    "The results do not seem to improve very much for target 1 variable. Let's still analyse its performance."
   ]
  },
  {
   "cell_type": "code",
   "execution_count": 52,
   "metadata": {},
   "outputs": [],
   "source": [
    "rf_model1=grid_search1.best_estimator_\n",
    "y_train_forest_pred[:,1]=cross_val_predict(rf_model1,X_train_reduced,y_train[:,1],cv=5)"
   ]
  },
  {
   "cell_type": "code",
   "execution_count": 53,
   "metadata": {},
   "outputs": [
    {
     "name": "stdout",
     "output_type": "stream",
     "text": [
      "Target variable:  1\n",
      "[[498   8]\n",
      " [ 27   1]]\n"
     ]
    }
   ],
   "source": [
    "# Let's look at the confusion matrix for the target variable 1\n",
    "print('Target variable: ',1)\n",
    "print(confusion_matrix(y_train[:,1],y_train_forest_pred[:,1]))"
   ]
  },
  {
   "cell_type": "markdown",
   "metadata": {},
   "source": [
    "The performance did not really improve. Let's look at the precision recall curve for it."
   ]
  },
  {
   "cell_type": "code",
   "execution_count": 54,
   "metadata": {},
   "outputs": [
    {
     "data": {
      "image/png": "[encoded data removed]",
      "text/plain": [
       "<Figure size 432x288 with 1 Axes>"
      ]
     },
     "metadata": {
      "needs_background": "light"
     },
     "output_type": "display_data"
    }
   ],
   "source": [
    "y_probas_forest[:,1]=cross_val_predict(rf_model1,X_train_reduced,y_train[:,1],cv=5,method='predict_proba')[:,1]\n",
    "precisions1,recalls1,thresholds1=precision_recall_curve(y_train[:,1],y_probas_forest[:,1])\n",
    "plot_precision_recall_vs_threshold(precisions1,recalls1,thresholds1)\n",
    "plt.legend()\n",
    "plt.show()"
   ]
  },
  {
   "cell_type": "markdown",
   "metadata": {},
   "source": [
    "It seems that if the threshold would be lowered, the precision could be increased. However, the recall stays low for all threshold levels."
   ]
  },
  {
   "cell_type": "markdown",
   "metadata": {},
   "source": [
    "## d) ROC curves"
   ]
  },
  {
   "cell_type": "markdown",
   "metadata": {},
   "source": [
    "Let's still draw ROC curves. "
   ]
  },
  {
   "cell_type": "code",
   "execution_count": 55,
   "metadata": {},
   "outputs": [],
   "source": [
    "from sklearn.ensemble import RandomForestClassifier"
   ]
  },
  {
   "cell_type": "code",
   "execution_count": 56,
   "metadata": {},
   "outputs": [],
   "source": [
    "fpr_forest0,tpr_forest0,thresholds_forest0=roc_curve(y_train[:,0],y_probas_forest[:,0])\n",
    "fpr_forest2,tpr_forest2,thresholds_forest2=roc_curve(y_train[:,2],y_probas_forest[:,2])"
   ]
  },
  {
   "cell_type": "code",
   "execution_count": 57,
   "metadata": {},
   "outputs": [],
   "source": [
    "def plot_roc_curve(fpr,tpr,label=None):\n",
    "    plt.plot(fpr,tpr,linewidth=2,label=label)\n",
    "    plt.plot([0,1],[0,1])\n",
    "    plt.xlabel('False positive rate')\n",
    "    plt.ylabel('True positive rate (Recall)')"
   ]
  },
  {
   "cell_type": "code",
   "execution_count": 58,
   "metadata": {},
   "outputs": [
    {
     "data": {
      "image/png": "[encoded data removed]",
      "text/plain": [
       "<Figure size 432x288 with 1 Axes>"
      ]
     },
     "metadata": {
      "needs_background": "light"
     },
     "output_type": "display_data"
    }
   ],
   "source": [
    "plot_roc_curve(fpr_forest0,tpr_forest0)\n",
    "plt.title('Random forest model for target variable Schiller')\n",
    "plt.show()"
   ]
  },
  {
   "cell_type": "code",
   "execution_count": 59,
   "metadata": {},
   "outputs": [
    {
     "data": {
      "image/png": "[encoded data removed]",
      "text/plain": [
       "<Figure size 432x288 with 1 Axes>"
      ]
     },
     "metadata": {
      "needs_background": "light"
     },
     "output_type": "display_data"
    }
   ],
   "source": [
    "plot_roc_curve(fpr_forest2,tpr_forest2)\n",
    "plt.title('Random forest model for target variable Biopsy')\n",
    "plt.show()"
   ]
  },
  {
   "cell_type": "markdown",
   "metadata": {},
   "source": [
    "# Conclusions"
   ]
  },
  {
   "cell_type": "markdown",
   "metadata": {},
   "source": [
    "In this notebook , the multilabel classification problem was analysed with the help of Random Forest classifier. The conclusion was that it was best to create a separate model for each target variable. Also, the prediction of one of the target variables did not succeed with these models. Probably the dataset was too small after observations with null values were removed."
   ]
  }
 ],
 "metadata": {
  "kernelspec": {
   "display_name": "Python",
   "language": "python",
   "name": "conda-env-python-py"
  },
  "language_info": {
   "codemirror_mode": {
    "name": "ipython",
    "version": 3
   },
   "file_extension": ".py",
   "mimetype": "text/x-python",
   "name": "python",
   "nbconvert_exporter": "python",
   "pygments_lexer": "ipython3",
   "version": "3.6.7"
  }
 },
 "nbformat": 4,
 "nbformat_minor": 4
}
